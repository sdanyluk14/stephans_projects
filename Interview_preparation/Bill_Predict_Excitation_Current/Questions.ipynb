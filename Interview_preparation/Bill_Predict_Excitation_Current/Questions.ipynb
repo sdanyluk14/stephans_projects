{
 "cells": [
  {
   "cell_type": "markdown",
   "metadata": {
    "id": "xNsf_XJnbG8D"
   },
   "source": [
    "# Predict Excitation Current"
   ]
  },
  {
   "cell_type": "code",
   "execution_count": 1,
   "metadata": {
    "id": "fmWa0S0ZbYtx"
   },
   "outputs": [],
   "source": [
    "import pandas as pd\n",
    "import numpy as np\n",
    "\n",
    "pd.set_option(\"display.max_columns\", 101)\n",
    "pd.set_option('display.max_colwidth', 100)"
   ]
  },
  {
   "cell_type": "markdown",
   "metadata": {},
   "source": [
    "## General Questions (15pts)"
   ]
  },
  {
   "cell_type": "markdown",
   "metadata": {},
   "source": [
    "* Question 1 (5pts): Question asked by the interviewer\n",
    "* Question 2 (5pts): Question asked by the interviewer\n",
    "* Question 3 (5pts): Question asked by the interviewer"
   ]
  },
  {
   "cell_type": "markdown",
   "metadata": {},
   "source": [
    "## Notebook Introduction "
   ]
  },
  {
   "cell_type": "markdown",
   "metadata": {},
   "source": [
    "You are asked to solve a machine learning problem below. Your interviewer will walk you through the problem composed of three sections. Good luck!"
   ]
  },
  {
   "cell_type": "markdown",
   "metadata": {
    "id": "r8kqQ8h2eMJn"
   },
   "source": [
    "## Data Description"
   ]
  },
  {
   "cell_type": "markdown",
   "metadata": {
    "id": "MxXczpXMeNPO"
   },
   "source": [
    "Column | Description\n",
    ":---|:---\n",
    "`id` | Unique ID corresponding to the machine\n",
    "`load_current_and_change` | The load current of the machine and its minute-by-minute change separated by a delimiter\n",
    "`power_factor` | Power factor of the machine\n",
    "`power_factor_error` | Error in the power factor calculation of the machine\n",
    "`outcome` | Whether the machine requires high excitation current or not (1 - Yes, 0 - No)"
   ]
  },
  {
   "cell_type": "code",
   "execution_count": 4,
   "metadata": {
    "colab": {
     "base_uri": "https://localhost:8080/",
     "height": 204
    },
    "executionInfo": {
     "elapsed": 791,
     "status": "ok",
     "timestamp": 1619527827328,
     "user": {
      "displayName": "Abhinav Gupta",
      "photoUrl": "https://lh3.googleusercontent.com/a-/AOh14GjBpiTimJbxMWFkdipjcGYSIUpGfIav82LSmCyTXw=s64",
      "userId": "04670585521629932433"
     },
     "user_tz": -330
    },
    "id": "efkG0EkjeBWo",
    "outputId": "1a0c049c-4aa2-4d17-bc41-553e81a2bba3"
   },
   "outputs": [
    {
     "data": {
      "text/html": [
       "<div>\n",
       "<style scoped>\n",
       "    .dataframe tbody tr th:only-of-type {\n",
       "        vertical-align: middle;\n",
       "    }\n",
       "\n",
       "    .dataframe tbody tr th {\n",
       "        vertical-align: top;\n",
       "    }\n",
       "\n",
       "    .dataframe thead th {\n",
       "        text-align: right;\n",
       "    }\n",
       "</style>\n",
       "<table border=\"1\" class=\"dataframe\">\n",
       "  <thead>\n",
       "    <tr style=\"text-align: right;\">\n",
       "      <th></th>\n",
       "      <th>id</th>\n",
       "      <th>load_current_and_change</th>\n",
       "      <th>power_factor</th>\n",
       "      <th>power_factor_error</th>\n",
       "      <th>outcome</th>\n",
       "    </tr>\n",
       "  </thead>\n",
       "  <tbody>\n",
       "    <tr>\n",
       "      <th>0</th>\n",
       "      <td>0</td>\n",
       "      <td>3.4,0.245</td>\n",
       "      <td>0.84</td>\n",
       "      <td>0.16</td>\n",
       "      <td>0.0</td>\n",
       "    </tr>\n",
       "    <tr>\n",
       "      <th>1</th>\n",
       "      <td>1</td>\n",
       "      <td>five;0.492</td>\n",
       "      <td>0.71</td>\n",
       "      <td>0.29</td>\n",
       "      <td>1.0</td>\n",
       "    </tr>\n",
       "    <tr>\n",
       "      <th>2</th>\n",
       "      <td>2</td>\n",
       "      <td>four point two_0.162</td>\n",
       "      <td>0.98</td>\n",
       "      <td>0.02</td>\n",
       "      <td>0.0</td>\n",
       "    </tr>\n",
       "    <tr>\n",
       "      <th>3</th>\n",
       "      <td>3</td>\n",
       "      <td>4.7_0.165</td>\n",
       "      <td>0.91</td>\n",
       "      <td>0.09</td>\n",
       "      <td>0.0</td>\n",
       "    </tr>\n",
       "    <tr>\n",
       "      <th>4</th>\n",
       "      <td>4</td>\n",
       "      <td>5.3_0.195</td>\n",
       "      <td>0.99</td>\n",
       "      <td>0.01</td>\n",
       "      <td>0.0</td>\n",
       "    </tr>\n",
       "  </tbody>\n",
       "</table>\n",
       "</div>"
      ],
      "text/plain": [
       "   id load_current_and_change  power_factor  power_factor_error  outcome\n",
       "0   0               3.4,0.245          0.84                0.16      0.0\n",
       "1   1              five;0.492          0.71                0.29      1.0\n",
       "2   2    four point two_0.162          0.98                0.02      0.0\n",
       "3   3               4.7_0.165          0.91                0.09      0.0\n",
       "4   4               5.3_0.195          0.99                0.01      0.0"
      ]
     },
     "execution_count": 4,
     "metadata": {},
     "output_type": "execute_result"
    }
   ],
   "source": [
    "# The information dataset for the training set is already loaded below\n",
    "data = pd.read_csv('train.csv')\n",
    "data.head()"
   ]
  },
  {
   "cell_type": "markdown",
   "metadata": {
    "id": "wHrNW573ryKp"
   },
   "source": [
    "## Data Preperation (5pts)"
   ]
  },
  {
   "cell_type": "markdown",
   "metadata": {},
   "source": [
    "- **Question:** Prepare the data for modeling. Describe any interesting findings."
   ]
  },
  {
   "cell_type": "markdown",
   "metadata": {
    "id": "hOaZiTiIryN2"
   },
   "source": [
    "## Model Creation & Training (5pts)"
   ]
  },
  {
   "cell_type": "markdown",
   "metadata": {},
   "source": [
    "- **Question:** Build a machine learning model that can predict the variable in question."
   ]
  },
  {
   "cell_type": "markdown",
   "metadata": {
    "id": "_Gidj9XWryRT"
   },
   "source": [
    "## Evaluation & Testing (5pts)"
   ]
  },
  {
   "cell_type": "markdown",
   "metadata": {},
   "source": [
    "- **Question:** Evaluate the model's performance and describe any inshights or ways to further improve the model."
   ]
  }
 ],
 "metadata": {
  "colab": {
   "authorship_tag": "ABX9TyPeimH63fxTJUvKqQ6fimMm",
   "collapsed_sections": [],
   "name": "Questions.ipynb",
   "provenance": [],
   "toc_visible": true
  },
  "kernelspec": {
   "display_name": "Python 3 (ipykernel)",
   "language": "python",
   "name": "python3"
  },
  "language_info": {
   "codemirror_mode": {
    "name": "ipython",
    "version": 3
   },
   "file_extension": ".py",
   "mimetype": "text/x-python",
   "name": "python",
   "nbconvert_exporter": "python",
   "pygments_lexer": "ipython3",
   "version": "3.9.16"
  }
 },
 "nbformat": 4,
 "nbformat_minor": 4
}
